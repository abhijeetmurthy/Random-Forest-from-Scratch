{
 "cells": [
  {
   "cell_type": "code",
   "execution_count": 21,
   "metadata": {},
   "outputs": [],
   "source": [
    "import pandas as pd \n",
    "import numpy as np\n",
    "import matplotlib.pyplot as plt\n",
    "import seaborn as sns\n",
    "df=pd.read_csv(\"phl_hec_all_confirmed.csv\") ;\n",
    "# df.head()\n",
    "# df.columns = df.columns.str.strip().str.lower().str.replace(' ', '_').str.replace('(', '').str.replace(')', '')"
   ]
  },
  {
   "cell_type": "code",
   "execution_count": 22,
   "metadata": {
    "scrolled": false
   },
   "outputs": [],
   "source": [
    "# df.isnull().sum()"
   ]
  },
  {
   "cell_type": "code",
   "execution_count": 5,
   "metadata": {
    "scrolled": true
   },
   "outputs": [
    {
     "data": {
      "text/plain": [
       "<matplotlib.axes._subplots.AxesSubplot at 0x230a5778c50>"
      ]
     },
     "execution_count": 5,
     "metadata": {},
     "output_type": "execute_result"
    },
    {
     "data": {
      "image/png": "[encoded data removed]",
      "text/plain": [
       "<Figure size 432x288 with 1 Axes>"
      ]
     },
     "metadata": {
      "needs_background": "light"
     },
     "output_type": "display_data"
    }
   ],
   "source": [
    "sns.heatmap(df.isnull(),yticklabels=False,cbar=False)"
   ]
  },
  {
   "cell_type": "code",
   "execution_count": 23,
   "metadata": {},
   "outputs": [],
   "source": [
    "# df.info()\n",
    "# df['P. SFlux Min (EU)'].sum()"
   ]
  },
  {
   "cell_type": "code",
   "execution_count": 24,
   "metadata": {},
   "outputs": [],
   "source": [
    "# df['P. Zone Class'].value_counts()"
   ]
  },
  {
   "cell_type": "code",
   "execution_count": 25,
   "metadata": {},
   "outputs": [],
   "source": [
    "# df['P. Mass Class'].value_counts()"
   ]
  },
  {
   "cell_type": "code",
   "execution_count": 9,
   "metadata": {},
   "outputs": [],
   "source": [
    "df.drop(['P. Name KOI'],axis=1,inplace=True)\n",
    "df.drop(['P. Min Mass (EU)'],axis=1,inplace=True)\n",
    "df.drop(['P. Max Mass (EU)'],axis=1,inplace=True)"
   ]
  },
  {
   "cell_type": "code",
   "execution_count": 10,
   "metadata": {},
   "outputs": [],
   "source": [
    "df['P. Zone Class']=df['P. Zone Class'].fillna(df['P. Zone Class'].mode()[0])\n",
    "df['P. Mass Class']=df['P. Mass Class'].fillna(df['P. Mass Class'].mode()[0])\n",
    "df['P. Composition Class']=df['P. Composition Class'].fillna(df['P. Composition Class'].mode()[0])\n",
    "df['P. Habitable Class']=df['P. Habitable Class'].fillna(df['P. Habitable Class'].mode()[0])\n",
    "df['P. Atmosphere Class']=df['P. Atmosphere Class'].fillna(df['P. Atmosphere Class'].mode()[0])"
   ]
  },
  {
   "cell_type": "code",
   "execution_count": 11,
   "metadata": {
    "scrolled": true
   },
   "outputs": [],
   "source": [
    "df['P. Teq Min (K)']=df['P. Teq Min (K)'].fillna(df['P. Teq Min (K)'].mean())\n",
    "df['P. Teq Mean (K)']=df['P. Teq Mean (K)'].fillna(df['P. Teq Mean (K)'].mean())\n",
    "df['P. Teq Max (K)']=df['P. Teq Max (K)'].fillna(df['P. Teq Max (K)'].mean())"
   ]
  },
  {
   "cell_type": "code",
   "execution_count": 12,
   "metadata": {},
   "outputs": [],
   "source": [
    "df['P. Mass (EU)']=df['P. Mass (EU)'].fillna(df['P. Mass (EU)'].mean())\n",
    "df['P. Radius (EU)']=df['P. Radius (EU)'].fillna(df['P. Radius (EU)'].mean())\n",
    "df['P. Density (EU)']=df['P. Density (EU)'].fillna(df['P. Density (EU)'].mean())\n",
    "df['P. Gravity (EU)']=df['P. Gravity (EU)'].fillna(df['P. Gravity (EU)'].mean())\n",
    "df['P. Esc Vel (EU)']=df['P. Esc Vel (EU)'].fillna(df['P. Esc Vel (EU)'].mean())"
   ]
  },
  {
   "cell_type": "code",
   "execution_count": 13,
   "metadata": {},
   "outputs": [],
   "source": [
    "df['P. Teq Min (K)']=df['P. Teq Min (K)'].fillna(df['P. Teq Min (K)'].mean())\n",
    "df['P. Teq Mean (K)']=df['P. Teq Mean (K)'].fillna(df['P. Teq Mean (K)'].mean())\n",
    "df['P. Teq Max (K)']=df['P. Teq Max (K)'].fillna(df['P. Teq Max (K)'].mean())\n",
    "df['P. Ts Min (K)']=df['P. Ts Min (K)'].fillna(df['P. Ts Min (K)'].mean())\n",
    "df['P. Ts Mean (K)']=df['P. Ts Mean (K)'].fillna(df['P. Ts Mean (K)'].mean())\n",
    "df['P. Ts Max (K)']=df['P. Ts Max (K)'].fillna(df['P. Ts Max (K)'].mean())"
   ]
  },
  {
   "cell_type": "code",
   "execution_count": 14,
   "metadata": {},
   "outputs": [],
   "source": [
    "df['P. Surf Press (EU)']=df['P. Surf Press (EU)'].fillna(df['P. Surf Press (EU)'].mean())\n",
    "df['P. Mag']=df['P. Mag'].fillna(df['P. Mag'].mean())\n",
    "df['P. Appar Size (deg)']=df['P. Appar Size (deg)'].fillna(df['P. Appar Size (deg)'].mean())\n",
    "df['P. Period (days)']=df['P. Period (days)'].fillna(df['P. Period (days)'].mean())\n",
    "df['P. Sem Major Axis (AU)']=df['P. Sem Major Axis (AU)'].fillna(df['P. Sem Major Axis (AU)'].mean())\n",
    "df['P. Eccentricity']=df['P. Eccentricity'].fillna(df['P. Eccentricity'].mean())\n",
    "df['P. Mean Distance (AU)']=df['P. Mean Distance (AU)'].fillna(df['P. Mean Distance (AU)'].mean())\n",
    "df['P. Omega (deg)']=df['P. Omega (deg)'].fillna(df['P. Omega (deg)'].mean())"
   ]
  },
  {
   "cell_type": "code",
   "execution_count": 15,
   "metadata": {},
   "outputs": [],
   "source": [
    "df['P. Name Kepler'] = df['P. Name Kepler'].fillna(df['P. Name'])\n",
    "df.drop(['P. Inclination (deg)'],axis=1,inplace=True)"
   ]
  },
  {
   "cell_type": "code",
   "execution_count": 16,
   "metadata": {},
   "outputs": [],
   "source": [
    "df.drop(['S. Name HD'],axis=1,inplace=True)\n",
    "df.drop(['S. Name HIP'],axis=1,inplace=True)"
   ]
  },
  {
   "cell_type": "code",
   "execution_count": 26,
   "metadata": {},
   "outputs": [],
   "source": [
    "# df.info()"
   ]
  },
  {
   "cell_type": "code",
   "execution_count": 18,
   "metadata": {},
   "outputs": [],
   "source": [
    "df['S. Type']=df['S. Type'].fillna(df['S. Type'].mode()[0])\n",
    "df['S. Mass (SU)']=df['S. Mass (SU)'].fillna(df['S. Mass (SU)'].mean())\n",
    "df['S. Radius (SU)']=df['S. Radius (SU)'].fillna(df['S. Radius (SU)'].mean())\n",
    "df['S. Teff (K)']=df['S. Teff (K)'].fillna(df['S. Teff (K)'].mean())\n",
    "df['S. Luminosity (SU)']=df['S. Luminosity (SU)'].fillna(df['S. Luminosity (SU)'].mean())\n",
    "df['S. [Fe/H]']=df['S. [Fe/H]'].fillna(df['S. [Fe/H]'].mean())\n",
    "df['S. Age (Gyrs)']=df['S. Age (Gyrs)'].fillna(df['S. Age (Gyrs)'].mean())\n",
    "df['S. Appar Mag']=df['S. Appar Mag'].fillna(df['S. Appar Mag'].mean())\n",
    "df['S. Distance (pc)']=df['S. Distance (pc)'].fillna(df['S. Distance (pc)'].mean())\n",
    "df['S. Mag from Planet']=df['S. Mag from Planet'].fillna(df['S. Mag from Planet'].mean())\n",
    "df['S. Size from Planet (deg)']=df['S. Size from Planet (deg)'].fillna(df['S. Size from Planet (deg)'].mean())\n",
    "df['S. Hab Zone Min (AU)']=df['S. Hab Zone Min (AU)'].fillna(df['S. Hab Zone Min (AU)'].mean())\n",
    "df['S. Hab Zone Max (AU)']=df['S. Hab Zone Max (AU)'].fillna(df['S. Hab Zone Max (AU)'].mean())\n",
    "df['P. HZD']=df['P. HZD'].fillna(df['P. HZD'].mean())\n",
    "df['P. HZC']=df['P. HZC'].fillna(df['P. HZC'].mean())\n",
    "df['P. HZA']=df['P. HZA'].fillna(df['P. HZA'].mean())\n",
    "df['P. HZI']=df['P. HZI'].fillna(df['P. HZI'].mean())\n",
    "df['P. SPH']=df['P. SPH'].fillna(df['P. SPH'].mean())\n",
    "df['P. ESI']=df['P. ESI'].fillna(df['P. ESI'].mean())"
   ]
  },
  {
   "cell_type": "code",
   "execution_count": 19,
   "metadata": {},
   "outputs": [],
   "source": [
    "df['P. Disc. Year'] = df['P. Disc. Year'].fillna(df['Unnamed: 68'])\n",
    "df.drop(['Unnamed: 68'],axis=1,inplace=True)"
   ]
  },
  {
   "cell_type": "code",
   "execution_count": 28,
   "metadata": {},
   "outputs": [],
   "source": [
    "# df.info()\n",
    "# df.shape\n",
    "# df.to_csv(r'C:\\Users\\athar\\Desktop\\Project\\Cleaned_data.csv')"
   ]
  },
  {
   "cell_type": "code",
   "execution_count": null,
   "metadata": {},
   "outputs": [],
   "source": []
  }
 ],
 "metadata": {
  "kernelspec": {
   "display_name": "Python 3",
   "language": "python",
   "name": "python3"
  },
  "language_info": {
   "codemirror_mode": {
    "name": "ipython",
    "version": 3
   },
   "file_extension": ".py",
   "mimetype": "text/x-python",
   "name": "python",
   "nbconvert_exporter": "python",
   "pygments_lexer": "ipython3",
   "version": "3.5.6"
  }
 },
 "nbformat": 4,
 "nbformat_minor": 2
}
